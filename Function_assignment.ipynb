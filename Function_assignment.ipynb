{
  "nbformat": 4,
  "nbformat_minor": 0,
  "metadata": {
    "colab": {
      "provenance": []
    },
    "kernelspec": {
      "name": "python3",
      "display_name": "Python 3"
    },
    "language_info": {
      "name": "python"
    }
  },
  "cells": [
    {
      "cell_type": "markdown",
      "source": [
        "#function"
      ],
      "metadata": {
        "id": "MfoXrefIBy6P"
      }
    },
    {
      "cell_type": "markdown",
      "source": [
        "1.What is the difference between a function and a method in Python?\n",
        "\n",
        "-Function:\n",
        "\n",
        "A function is a block of organized, reusable code that is used to perform a single, related action. Functions are defined independently of any object or class.\n",
        "\n",
        "def my_function():\n",
        "  print(\"This is a function\")\n",
        "\n",
        "my_function()\n",
        "Method:\n",
        "\n",
        "A method is a function that is associated with an object. It's defined within a class and is called on an instance of that class. Methods operate on the data contained within the object.\n",
        "\n",
        "class MyClass:\n",
        "  def my_method(self):\n",
        "    print(\"This is a method\")\n",
        "\n",
        "obj = MyClass()\n",
        "obj.my_method()\n",
        "In short:\n",
        "\n",
        "Functions are standalone blocks of code.\n",
        "Methods are functions that belong to objects (instances of classes).\n",
        "\n",
        "2.Explain the concept of function arguments and parameters in Python.\n",
        "\n",
        "-Parameters:\n",
        "\n",
        "Parameters are the names listed in the function definition. They act as placeholders for the values you want to pass into the function when you call it.\n",
        "\n",
        "def greet(name):  # 'name' is a parameter\n",
        "  print(f\"Hello, {name}!\")\n",
        "In this example, name is a parameter of the greet function.\n",
        "\n",
        "Arguments:\n",
        "\n",
        "Arguments are the actual values that you pass to the function when you call it. These values are assigned to the corresponding parameters inside the function.\n",
        "\n",
        "greet(\"Alice\")  # \"Alice\" is an argument\n",
        "greet(\"Bob\")    # \"Bob\" is another argument\n",
        "Here, \"Alice\" and \"Bob\" are arguments passed to the greet function. When greet(\"Alice\") is called, the value \"Alice\" is assigned to the parameter name inside the function.\n",
        "\n",
        "3. What are the different ways to define and call a function in Python?\n",
        "\n",
        "-Defining a Function:\n",
        "\n",
        "Use the def keyword followed by the function name, parentheses (), and a colon :.\n",
        "def my_function():\n",
        "  pass\n",
        "Calling a Function:\n",
        "\n",
        "Use the function name followed by parentheses ().\n",
        "my_function()\n",
        "Different Ways to Pass Arguments:\n",
        "\n",
        "Positional Arguments: Arguments matched by their order.\n",
        "def greet(name, message):\n",
        "    print(f\"{message}, {name}\")\n",
        "greet(\"Alice\", \"Hello\")\n",
        "Keyword Arguments: Arguments matched by parameter name using =.\n",
        "def greet(name, message):\n",
        "    print(f\"{message}, {name}\")\n",
        "greet(message=\"Hi\", name=\"Bob\")\n",
        "Default Arguments: Parameters with pre-assigned values if no argument is given.\n",
        "def greet(name, message=\"Hello\"):\n",
        "    print(f\"{message}, {name}\")\n",
        "greet(\"Charlie\")\n",
        "Arbitrary Positional Arguments (*args): Collect extra positional arguments into a tuple.\n",
        "def sum_all(*args):\n",
        "    return sum(args)\n",
        "Arbitrary Keyword Arguments (`kwargs`):** Collect extra keyword arguments into a dictionary.\n",
        "def display_info(**kwargs):\n",
        "    print(kwargs)\n",
        "These are the main ways to define and call functions and pass arguments in Python.\n",
        "\n",
        "4. What is the purpose of the `return` statement in a Python function?\n",
        "\n",
        "-The return statement in a Python function is used to send a value back from the function to the caller. It also stops the function's execution.\n",
        "\n",
        "If a function doesn't have a return statement or has return without a value, it implicitly returns None.\n",
        "example:\n",
        "\n",
        "def multiply(a, b):\n",
        "\n",
        "result = multiply(4, 6)\n",
        "print(result) # Output: 24\n",
        "In this example, return a * b sends the result of the multiplication back, which we then store in the result variable.\n",
        "\n",
        "5. What are iterators in Python and how do they differ from iterables?\n",
        "\n",
        "-Iterable:\n",
        "\n",
        "An iterable is an object that you can loop over (iterate through). This includes objects like lists, tuples, strings, and dictionaries. You can get an iterator from an iterable.\n",
        "\n",
        "Think of an iterable as a container you can get items from one by one.\n",
        "\n",
        "my_list = [1, 2, 3] # A list is an iterable\n",
        "for item in my_list:\n",
        "  print(item)\n",
        "Iterator:\n",
        "\n",
        "An iterator is an object that represents a stream of data. It remembers its state (where it is in the sequence) and provides the next item in the sequence when you ask for it. Iterators are obtained from iterables using the iter() function. You get the next item using the next() function. When there are no more items, it raises a StopIteration exception.\n",
        "\n",
        "Think of an iterator as a pointer or cursor that moves through the iterable.\n",
        "\n",
        "my_list = [1, 2, 3]\n",
        "my_iterator = iter(my_list) # Get an iterator from the list\n",
        "\n",
        "print(next(my_iterator)) # Output: 1\n",
        "print(next(my_iterator)) # Output: 2\n",
        "print(next(my_iterator)) # Output: 3\n",
        "\n",
        "6.Explain the concept of generators in Python and how they are defined.\n",
        "\n",
        "-Generators:\n",
        "\n",
        "Generators are a special type of iterator that allow you to create iterators in a more memory-efficient way. Instead of creating the entire sequence of items in memory at once (like a list does), generators produce items one by one as they are requested.\n",
        "\n",
        "They are defined like regular functions, but instead of using the return statement to send back a final value, they use the yield statement.\n",
        "\n",
        "How they are defined:\n",
        "\n",
        "Defined using the def keyword like a normal function.\n",
        "Contain one or more yield statements.\n",
        "When called, they don't execute the code immediately; they return a generator object.\n",
        "The code inside the generator function runs each time next() is called on the generator object, up to the next yield statement.\n",
        "The state of the function is saved between yield calls.\n",
        "Example:\n",
        "\n",
        "def simple_generator():\n",
        "  \"\"\"A simple generator that yields numbers.\"\"\"\n",
        "  print(\"First yield\")\n",
        "  yield 1\n",
        "  print(\"Second yield\")\n",
        "  yield 2\n",
        "  print(\"Third yield\")\n",
        "  yield 3\n",
        "\n",
        "gen = simple_generator()\n",
        "\n",
        "print(next(gen))\n",
        "print(next(gen))\n",
        "print(next(gen))\n",
        "In this example, simple_generator() is a generator function because it uses yield. When we call simple_generator(), it returns a generator object gen. Each call to next(gen) resumes the function's execution from where it left off, prints the message, yields a value, and pauses until next() is called again.\n",
        "\n",
        "7. What are the advantages of using generators over regular functions?\n",
        "\n",
        "-Generators offer several advantages over regular functions, particularly when dealing with large sequences of data. Here are the main ones:\n",
        "\n",
        "Advantages of Using Generators:\n",
        "\n",
        "Memory Efficiency: This is the biggest advantage. Regular functions that return a list or other collection build the entire sequence in memory before returning it. Generators, on the other hand, produce items one at a time as they are needed (lazily). This is crucial for large datasets that might not fit into memory all at once.\n",
        "Performance (for large datasets): Because generators don't have to build the entire sequence upfront, they can be faster for processing large amounts of data, especially if you only need to process a portion of the sequence.\n",
        "Infinite Sequences: Generators can easily represent infinite sequences because they don't need to store the entire sequence. A regular function returning a list of an infinite sequence would run forever or crash due to memory issues.\n",
        "Clean and Readable Code: For certain types of iterative tasks, using a generator can make the code more concise and easier to understand compared to writing a custom iterator class.\n",
        "Example:\n",
        "\n",
        "Let's look at an example comparing a regular function and a generator for generating a sequence of numbers:\n",
        "\n",
        "Regular Function (less memory efficient for large N):\n",
        "\n",
        "def generate_numbers_list(n):\n",
        "  numbers = []\n",
        "  for i in range(n):\n",
        "    numbers.append(i)\n",
        "  return numbers\n",
        "\n",
        "large_list = generate_numbers_list(1000000)\n",
        "Generator (more memory efficient for large N):\n",
        "\n",
        "def generate_numbers_generator(n):\n",
        "  for i in range(n):\n",
        "    yield i\n",
        "\n",
        "\n",
        "large_generator = generate_numbers_generator(1000000)\n",
        "\n",
        "for number in large_generator:\n",
        "  if number > 10:\n",
        "    break\n",
        "\n",
        "In the generator example, large_generator is an iterator that produces numbers as you loop through it. It doesn't store all one million numbers in memory simultaneously, making it much more memory-friendly if you're dealing with very large values of n.\n",
        "\n",
        "8.What is a lambda function in Python and when is it typically used?\n",
        "\n",
        "- Lambda functions are small, anonymous functions defined using the lambda keyword. They are used for creating small, throwaway functions without the need to formally define a function using def.\n",
        "Syntax:\n",
        "\n",
        "lambda arguments: expression\n",
        "Lambda functions are typically used for:\n",
        "\n",
        "Simple, short operations: When you need a function for a brief period and a full def function definition would be overly verbose.\n",
        "As arguments to higher-order functions: They are commonly used with functions like map(), filter(), and sorted() that take other functions as arguments.\n",
        "Example:\n",
        "\n",
        "square = lambda x: x**2\n",
        "\n",
        "print(square(5)) # Output: 25\n",
        "\n",
        "my_list = [(1, 'b'), (3, 'a'), (2, 'c')]\n",
        "sorted_list = sorted(my_list, key=lambda item: item[0]) # Sort by the first element of each tuple\n",
        "print(sorted_list) # Output: [(1, 'b'), (2, 'c'), (3, 'a')]\n",
        "In the example, lambda x: x**2 is an anonymous function that takes one argument x and returns x squared. The second example shows a common use case with sorted(), where a lambda function is used to define the sorting key.\n",
        "\n",
        "9. Explain the purpose and usage of the `map()` function in Python.\n",
        "\n",
        "-Purpose of map():\n",
        "\n",
        "The map() function is a built-in Python function that is used to apply a given function to all items of an iterable (like a list, tuple, etc.) and return an iterator that yields the results.\n",
        "\n",
        "Essentially, it's a concise way to perform the same operation on every element of a sequence without writing an explicit for loop.\n",
        "\n",
        "Usage of map():\n",
        "\n",
        "The syntax for map() is:\n",
        "\n",
        "map(function, iterable)\n",
        "function: The function you want to apply to each item.\n",
        "iterable: The sequence (list, tuple, string, etc.) whose elements you want to process.\n",
        "map() returns a map object, which is an iterator. To get the actual results as a list or other sequence, you typically convert the map object using list(), tuple(), etc.\n",
        "\n",
        "Example:\n",
        "\n",
        "Let's say you have a list of numbers and you want to square each number.\n",
        "\n",
        "Using a for loop (the traditional way):\n",
        "\n",
        "numbers = [1, 2, 3, 4, 5]\n",
        "squared_numbers = []\n",
        "\n",
        "for num in numbers:\n",
        "  squared_numbers.append(num**2)\n",
        "\n",
        "print(squared_numbers) # Output: [1, 4, 9, 16, 25]\n",
        "Using map():\n",
        "\n",
        "numbers = [1, 2, 3, 4, 5]\n",
        "\n",
        "def square(x):\n",
        "  return x**2\n",
        "\n",
        "squared_numbers_map = list(map(square, numbers))\n",
        "\n",
        "print(squared_numbers_map) # Output: [1, 4, 9, 16, 25]\n",
        "\n",
        "10.What is the difference between `map()`, `reduce()`, and `filter()` functions in Python?\n",
        "\n",
        "-The map function applies a given function to all items in an input iterable (like a list) and returns an iterator with the results.\n",
        "ex-numbers = [1, 2, 3, 4, 5]\n",
        "squared = list(map(lambda x: x**2, numbers))\n",
        "print(squared) # Output: [1, 4, 9, 16, 25]\n",
        "\n",
        "The reduce function from the functools module applies a given function cumulatively to the items of a sequence, from left to right, to reduce the sequence to a single value.\n",
        "ex-from functools import reduce\n",
        "\n",
        "numbers = [1, 2, 3, 4, 5]\n",
        "sum_of_numbers = reduce(lambda x, y: x + y, numbers)\n",
        "print(sum_of_numbers) # Output: 15\n",
        "\n",
        "product_of_numbers = reduce(lambda x, y: x * y, numbers, 1) # Start with a product of 1\n",
        "print(product_of_numbers) # Output: 120 (1 * 1 * 2 * 3 * 4 * 5)\n",
        "\n",
        "The filter function constructs an iterator from elements of an iterable for which a specified function returns True.\n",
        "ex-numbers = [1, 2, 3, 4, 5, 6]\n",
        "evens = list(filter(lambda x: x % 2 == 0, numbers))\n",
        "print(evens) # Output: [2, 4, 6]\n",
        "\n",
        "11. Using pen & Paper write the internal mechanism for sum operation using reduce function on this given list:[47,11,42,13];\n",
        "(Attach paper image for this answer) in doc or colab notebook.\n",
        "\n",
        "-attach on the doc\n"
      ],
      "metadata": {
        "id": "mG5eHveHB-i-"
      }
    },
    {
      "cell_type": "markdown",
      "source": [
        "#Practical"
      ],
      "metadata": {
        "id": "PX9jVpwwJVS_"
      }
    },
    {
      "cell_type": "markdown",
      "source": [
        "1.Write a Python function that takes a list of numbers as input and returns the sum of all even numbers in\n",
        "the list."
      ],
      "metadata": {
        "id": "gfti4NaAJbia"
      }
    },
    {
      "cell_type": "code",
      "source": [
        "def sum_of_even_numbers(numbers_list):\n",
        "\n",
        "  even_sum = 0\n",
        "  for number in numbers_list:\n",
        "    if number % 2 == 0:\n",
        "      even_sum += number\n",
        "  return even_sum\n",
        "\n",
        "my_numbers = [1, 2, 3, 4, 5, 6, 7, 8, 9, 10]\n",
        "total_even = sum_of_even_numbers(my_numbers)\n",
        "print(f\"The sum of even numbers in the list is: {total_even}\")\n",
        "\n",
        "my_numbers_2 = [15, 23, 31, 40, 55, 68]\n",
        "total_even_2 = sum_of_even_numbers(my_numbers_2)\n",
        "print(f\"The sum of even numbers in the second list is: {total_even_2}\")"
      ],
      "metadata": {
        "colab": {
          "base_uri": "https://localhost:8080/"
        },
        "id": "-_Tr1fqOJuFZ",
        "outputId": "08756d76-8579-41c1-9123-e69803231bc8"
      },
      "execution_count": null,
      "outputs": [
        {
          "output_type": "stream",
          "name": "stdout",
          "text": [
            "The sum of even numbers in the list is: 30\n",
            "The sum of even numbers in the second list is: 108\n"
          ]
        }
      ]
    },
    {
      "cell_type": "markdown",
      "source": [
        "2.Create a Python function that accepts a string and returns the reverse of that string."
      ],
      "metadata": {
        "id": "DRUgAwhTJ4o7"
      }
    },
    {
      "cell_type": "code",
      "source": [
        "def reverse_string(input_string):\n",
        "  return input_string[::-1]\n",
        "\n",
        "my_string = \"hello\"\n",
        "reversed_string = reverse_string(my_string)\n",
        "print(f\"The original string is: {my_string}\")\n",
        "print(f\"The reversed string is: {reversed_string}\")\n",
        "\n",
        "another_string = \"Python\"\n",
        "reversed_another_string = reverse_string(another_string)\n",
        "print(f\"The original string is: {another_string}\")\n",
        "print(f\"The reversed string is: {reversed_another_string}\")"
      ],
      "metadata": {
        "colab": {
          "base_uri": "https://localhost:8080/"
        },
        "id": "I75mmG_pKIa6",
        "outputId": "d2fae5ba-b21a-48a2-d981-f73a754ebe7b"
      },
      "execution_count": null,
      "outputs": [
        {
          "output_type": "stream",
          "name": "stdout",
          "text": [
            "The original string is: hello\n",
            "The reversed string is: olleh\n",
            "The original string is: Python\n",
            "The reversed string is: nohtyP\n"
          ]
        }
      ]
    },
    {
      "cell_type": "markdown",
      "source": [
        "3. Implement a Python function that takes a list of integers and returns a new list containing the squares of each number."
      ],
      "metadata": {
        "id": "6_4uupIlKOHE"
      }
    },
    {
      "cell_type": "code",
      "source": [
        "def square_numbers(numbers_list):\n",
        "  squared_list = []\n",
        "  for number in numbers_list:\n",
        "    squared_list.append(number ** 2)\n",
        "  return squared_list\n",
        "\n",
        "my_numbers = [1, 2, 3, 4, 5]\n",
        "squared_numbers = square_numbers(my_numbers)\n",
        "print(f\"Original list: {my_numbers}\")\n",
        "print(f\"Squared list: {squared_numbers}\")\n",
        "\n",
        "another_list = [10, -2, 0, 7]\n",
        "squared_another_list = square_numbers(another_list)\n",
        "print(f\"Original list: {another_list}\")\n",
        "print(f\"Squared list: {squared_another_list}\")"
      ],
      "metadata": {
        "colab": {
          "base_uri": "https://localhost:8080/"
        },
        "id": "aMJPt3WAKYVD",
        "outputId": "f81e5488-ca98-4335-a37d-b0c8ff8d895e"
      },
      "execution_count": null,
      "outputs": [
        {
          "output_type": "stream",
          "name": "stdout",
          "text": [
            "Original list: [1, 2, 3, 4, 5]\n",
            "Squared list: [1, 4, 9, 16, 25]\n",
            "Original list: [10, -2, 0, 7]\n",
            "Squared list: [100, 4, 0, 49]\n"
          ]
        }
      ]
    },
    {
      "cell_type": "markdown",
      "source": [
        "4.Write a Python function that checks if a given number is prime or not from 1 to 200."
      ],
      "metadata": {
        "id": "AkAftDMwKmfD"
      }
    },
    {
      "cell_type": "code",
      "source": [
        "def is_prime(number):\n",
        "  if number <= 1:\n",
        "    return False\n",
        "  if number <= 3:\n",
        "    return True\n",
        "  if number % 2 == 0 or number % 3 == 0:\n",
        "    return False\n",
        "\n",
        "  i = 5\n",
        "  while i * i <= number:\n",
        "    if number % i == 0 or number % (i + 2) == 0:\n",
        "      return False\n",
        "    i += 6\n",
        "  return True\n",
        "\n",
        "print(\"Prime numbers from 1 to 200:\")\n",
        "for num in range(1, 201):\n",
        "  if is_prime(num):\n",
        "    print(num, end=\" \")"
      ],
      "metadata": {
        "colab": {
          "base_uri": "https://localhost:8080/"
        },
        "id": "6jXr_7XSKyef",
        "outputId": "47c225f5-8d9e-414a-d1ea-f934a09a085a"
      },
      "execution_count": null,
      "outputs": [
        {
          "output_type": "stream",
          "name": "stdout",
          "text": [
            "Prime numbers from 1 to 200:\n",
            "2 3 5 7 11 13 17 19 23 29 31 37 41 43 47 53 59 61 67 71 73 79 83 89 97 101 103 107 109 113 127 131 137 139 149 151 157 163 167 173 179 181 191 193 197 199 "
          ]
        }
      ]
    },
    {
      "cell_type": "markdown",
      "source": [
        "5.Create an iterator class in Python that generates the Fibonacci sequence up to a specified number of\n",
        "terms."
      ],
      "metadata": {
        "id": "GqxHZzkNK9yL"
      }
    },
    {
      "cell_type": "code",
      "source": [
        "class FibonacciIterator:\n",
        "\n",
        "  def __init__(self, num_terms):\n",
        "    if num_terms <= 0:\n",
        "      raise ValueError(\"Number of terms must be a positive integer\")\n",
        "    self.num_terms = num_terms\n",
        "    self.current_term = 0\n",
        "    self.a = 0\n",
        "    self.b = 1\n",
        "\n",
        "  def __iter__(self):\n",
        "    return self\n",
        "\n",
        "  def __next__(self):\n",
        "    if self.current_term < self.num_terms:\n",
        "      if self.current_term == 0:\n",
        "        self.current_term += 1\n",
        "        return self.a\n",
        "      elif self.current_term == 1:\n",
        "        self.current_term += 1\n",
        "        return self.b\n",
        "      else:\n",
        "        next_fib = self.a + self.b\n",
        "        self.a = self.b\n",
        "        self.b = next_fib\n",
        "        self.current_term += 1\n",
        "        return next_fib\n",
        "    else:\n",
        "      raise StopIteration\n",
        "\n",
        "fib_sequence = FibonacciIterator(10)\n",
        "\n",
        "print(\"Fibonacci sequence (first 10 terms):\")\n",
        "for term in fib_sequence:\n",
        "  print(term)\n",
        "\n",
        "print(\"\\nFibonacci sequence (first 5 terms):\")\n",
        "fib_sequence_short = FibonacciIterator(5)\n",
        "for term in fib_sequence_short:\n",
        "  print(term)"
      ],
      "metadata": {
        "colab": {
          "base_uri": "https://localhost:8080/"
        },
        "id": "gIep26LTLKKY",
        "outputId": "a0544b34-fd6c-4144-a4ef-20f6be67e04d"
      },
      "execution_count": null,
      "outputs": [
        {
          "output_type": "stream",
          "name": "stdout",
          "text": [
            "Fibonacci sequence (first 10 terms):\n",
            "0\n",
            "1\n",
            "1\n",
            "2\n",
            "3\n",
            "5\n",
            "8\n",
            "13\n",
            "21\n",
            "34\n",
            "\n",
            "Fibonacci sequence (first 5 terms):\n",
            "0\n",
            "1\n",
            "1\n",
            "2\n",
            "3\n"
          ]
        }
      ]
    },
    {
      "cell_type": "markdown",
      "source": [
        "6. Write a generator function in Python that yields the powers of 2 up to a given exponent."
      ],
      "metadata": {
        "id": "R73csoHkLV2B"
      }
    },
    {
      "cell_type": "code",
      "source": [
        "def powers_of_two(max_exponent):\n",
        "\n",
        "  for i in range(max_exponent + 1):\n",
        "    yield 2 ** i\n",
        "\n",
        "pow2_generator = powers_of_two(5)\n",
        "\n",
        "print(\"Powers of 2 up to exponent 5:\")\n",
        "for power in pow2_generator:\n",
        "  print(power)\n",
        "\n",
        "print(\"\\nPowers of 2 up to exponent 3:\")\n",
        "for power in powers_of_two(3):\n",
        "  print(power)"
      ],
      "metadata": {
        "colab": {
          "base_uri": "https://localhost:8080/"
        },
        "id": "STaXH6i-LfoC",
        "outputId": "a39c6baa-8690-41e2-9dc4-df3c806be6f4"
      },
      "execution_count": null,
      "outputs": [
        {
          "output_type": "stream",
          "name": "stdout",
          "text": [
            "Powers of 2 up to exponent 5:\n",
            "1\n",
            "2\n",
            "4\n",
            "8\n",
            "16\n",
            "32\n",
            "\n",
            "Powers of 2 up to exponent 3:\n",
            "1\n",
            "2\n",
            "4\n",
            "8\n"
          ]
        }
      ]
    },
    {
      "cell_type": "markdown",
      "source": [
        "7.Implement a generator function that reads a file line by line and yields each line as a string."
      ],
      "metadata": {
        "id": "L6yMR3PRLy6-"
      }
    },
    {
      "cell_type": "code",
      "source": [
        "def read_file_line_by_line(file_path):\n",
        "\n",
        "  try:\n",
        "    with open(file_path, 'r') as file:\n",
        "      for line in file:\n",
        "        yield line.strip()\n",
        "  except FileNotFoundError:\n",
        "    print(f\"Error: File not found at {file_path}\")\n",
        "  except Exception as e:\n",
        "    print(f\"An error occurred: {e}\")\n",
        "\n",
        "with open(\"my_example_file.txt\", \"w\") as f:\n",
        "    f.write(\"This is the first line.\\n\")\n",
        "    f.write(\"This is the second line.\\n\")\n",
        "    f.write(\"And the third line.\")\n",
        "\n",
        "print(\"Reading file using generator:\")\n",
        "for line in read_file_line_by_line(\"my_example_file.txt\"):\n",
        "  print(line)\n",
        "\n",
        "import os\n",
        "os.remove(\"my_example_file.txt\")"
      ],
      "metadata": {
        "colab": {
          "base_uri": "https://localhost:8080/"
        },
        "id": "gbZ4ZwmYL_O6",
        "outputId": "4d604c80-70e5-43f5-b42a-3bed6b2460cb"
      },
      "execution_count": null,
      "outputs": [
        {
          "output_type": "stream",
          "name": "stdout",
          "text": [
            "Reading file using generator:\n",
            "This is the first line.\n",
            "This is the second line.\n",
            "And the third line.\n"
          ]
        }
      ]
    },
    {
      "cell_type": "markdown",
      "source": [
        "8. Use a lambda function in Python to sort a list of tuples based on the second element of each tuple."
      ],
      "metadata": {
        "id": "GgUDVOfCMK7s"
      }
    },
    {
      "cell_type": "code",
      "source": [
        "my_list_of_tuples = [(1, 'banana'), (3, 'apple'), (2, 'cherry'), (4, 'date')]\n",
        "\n",
        "sorted_list = sorted(my_list_of_tuples, key=lambda item: item[1])\n",
        "\n",
        "print(f\"Original list: {my_list_of_tuples}\")\n",
        "print(f\"Sorted list (by second element): {sorted_list}\")\n",
        "\n",
        "\n",
        "another_list = [(5, 100), (1, 50), (3, 150), (2, 25)]\n",
        "sorted_another_list = sorted(another_list, key=lambda x: x[1])\n",
        "print(f\"\\nOriginal list: {another_list}\")\n",
        "print(f\"Sorted list (by second element): {sorted_another_list}\")"
      ],
      "metadata": {
        "colab": {
          "base_uri": "https://localhost:8080/"
        },
        "id": "1em4bh8BMWYg",
        "outputId": "14702018-15b2-42db-d40d-219b0da9dc62"
      },
      "execution_count": null,
      "outputs": [
        {
          "output_type": "stream",
          "name": "stdout",
          "text": [
            "Original list: [(1, 'banana'), (3, 'apple'), (2, 'cherry'), (4, 'date')]\n",
            "Sorted list (by second element): [(3, 'apple'), (1, 'banana'), (2, 'cherry'), (4, 'date')]\n",
            "\n",
            "Original list: [(5, 100), (1, 50), (3, 150), (2, 25)]\n",
            "Sorted list (by second element): [(2, 25), (1, 50), (5, 100), (3, 150)]\n"
          ]
        }
      ]
    },
    {
      "cell_type": "markdown",
      "source": [
        "9. Write a Python program that uses `map()` to convert a list of temperatures from Celsius to Fahrenheit."
      ],
      "metadata": {
        "id": "B-zDeLPCMfWu"
      }
    },
    {
      "cell_type": "code",
      "source": [
        "celsius_temps = [0, 10, 20, 30, 40, 100]\n",
        "\n",
        "def celsius_to_fahrenheit(celsius):\n",
        "  return (celsius * 9/5) + 32\n",
        "\n",
        "fahrenheit_temps = list(map(celsius_to_fahrenheit, celsius_temps))\n",
        "\n",
        "print(f\"Celsius temperatures: {celsius_temps}\")\n",
        "print(f\"Fahrenheit temperatures: {fahrenheit_temps}\")\n",
        "\n",
        "fahrenheit_temps_lambda = list(map(lambda c: (c * 9/5) + 32, celsius_temps))\n",
        "print(f\"Fahrenheit temperatures (using lambda): {fahrenheit_temps_lambda}\")"
      ],
      "metadata": {
        "colab": {
          "base_uri": "https://localhost:8080/"
        },
        "id": "VonAvInmM2b7",
        "outputId": "71103b74-aa5d-46d5-ced4-63423276deaa"
      },
      "execution_count": null,
      "outputs": [
        {
          "output_type": "stream",
          "name": "stdout",
          "text": [
            "Celsius temperatures: [0, 10, 20, 30, 40, 100]\n",
            "Fahrenheit temperatures: [32.0, 50.0, 68.0, 86.0, 104.0, 212.0]\n",
            "Fahrenheit temperatures (using lambda): [32.0, 50.0, 68.0, 86.0, 104.0, 212.0]\n"
          ]
        }
      ]
    },
    {
      "cell_type": "markdown",
      "source": [
        "10. Create a Python program that uses `filter()` to remove all the vowels from a given string."
      ],
      "metadata": {
        "id": "TVCikl3nM_IV"
      }
    },
    {
      "cell_type": "code",
      "metadata": {
        "colab": {
          "base_uri": "https://localhost:8080/"
        },
        "id": "841205f2",
        "outputId": "65073a01-e0b6-4aa2-ce84-932c08d45328"
      },
      "source": [
        "input_string = \"Hello, World!\"\n",
        "\n",
        "vowels = \"aeiouAEIOU\"\n",
        "\n",
        "\n",
        "def is_not_vowel(char):\n",
        "  return char not in vowels\n",
        "\n",
        "filtered_string = \"\".join(filter(is_not_vowel, input_string))\n",
        "\n",
        "print(f\"Original string: {input_string}\")\n",
        "print(f\"String after removing vowels: {filtered_string}\")\n",
        "\n",
        "input_string_2 = \"Programming in Python is fun!\"\n",
        "filtered_string_lambda = \"\".join(filter(lambda char: char not in vowels, input_string_2))\n",
        "print(f\"\\nOriginal string: {input_string_2}\")\n",
        "print(f\"String after removing vowels (using lambda): {filtered_string_lambda}\")"
      ],
      "execution_count": null,
      "outputs": [
        {
          "output_type": "stream",
          "name": "stdout",
          "text": [
            "Original string: Hello, World!\n",
            "String after removing vowels: Hll, Wrld!\n",
            "\n",
            "Original string: Programming in Python is fun!\n",
            "String after removing vowels (using lambda): Prgrmmng n Pythn s fn!\n"
          ]
        }
      ]
    },
    {
      "cell_type": "markdown",
      "source": [
        "11.Imagine an accounting routine used in a book shop. It works on a list with sublists, which look like this:\n",
        " Write a Python program, which returns a list with 2-tuples. Each tuple consists of the order number and the\n",
        "product of the price per item and the quantity. The product should be increased by 10,- € if the value of the\n",
        "order is smaller than 100,00 €.\n",
        " Write a Python program using lambda and map."
      ],
      "metadata": {
        "id": "qbS-aCyRNVRQ"
      }
    },
    {
      "cell_type": "code",
      "source": [
        "orders = [\n",
        "     [34587, \"Learning Python, Mark Lutz\", 4, 40.95],\n",
        "      [98762, \"Programming Python, Mark Lutz\", 5, 56.80],\n",
        "      [77226, \"Head First Python, Paul Barry\", 3, 32.95],\n",
        "       [88112, \"Einführung in Python3, Bernd Klein\", 3, 24.99]\n",
        "     ]\n",
        "processed_orders = list(map(lambda order: (order[0], (order[2] * order[3]) + (10 if (order[2] * order[3]) < 100 else 0)), orders))\n",
        "print(processed_orders)"
      ],
      "metadata": {
        "colab": {
          "base_uri": "https://localhost:8080/"
        },
        "id": "RRG9CwjtOrDl",
        "outputId": "01016548-11f0-4c82-831a-4967d736a141"
      },
      "execution_count": null,
      "outputs": [
        {
          "output_type": "stream",
          "name": "stdout",
          "text": [
            "[(34587, 163.8), (98762, 284.0), (77226, 108.85000000000001), (88112, 84.97)]\n"
          ]
        }
      ]
    }
  ]
}